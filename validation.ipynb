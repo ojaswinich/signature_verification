{
 "cells": [
  {
   "cell_type": "code",
   "execution_count": 1,
   "metadata": {},
   "outputs": [
    {
     "name": "stderr",
     "output_type": "stream",
     "text": [
      "/Applications/anaconda/lib/python3.6/importlib/_bootstrap.py:205: RuntimeWarning: compiletime version 3.5 of module 'tensorflow.python.framework.fast_tensor_util' does not match runtime version 3.6\n",
      "  return f(*args, **kwds)\n",
      "Using TensorFlow backend.\n"
     ]
    }
   ],
   "source": [
    "import tensorflow as tf\n",
    "from keras.layers import Input, Lambda,subtract,GlobalMaxPooling2D,Dense,GlobalAveragePooling2D, concatenate, Activation\n",
    "from keras.applications.mobilenet import MobileNet as Net\n",
    "\n",
    "from keras.preprocessing import image\n",
    "from keras.applications.mobilenet import preprocess_input\n",
    "from keras.models import Model\n",
    "from keras.layers import Input, merge\n",
    "from keras.optimizers import Adam\n",
    "import cv2\n",
    "import numpy as np\n",
    "import os\n",
    "#from tqdm import tqdm\n",
    "from keras.models import Sequential\n",
    "\n",
    "from keras.layers import Dense, Dropout, Flatten\n",
    "from keras.layers import Conv2D, MaxPooling2D\n",
    "import time\n",
    "import glob\n",
    "\n",
    "ALPHA = 0.7 # Triplet Loss Parameter\n",
    "\n",
    "from keras.layers import Input,Lambda,subtract,GlobalMaxPooling2D,Dense,GlobalAveragePooling2D,concatenate,Activation\n",
    "from keras.applications.xception import Xception as Net\n",
    "from keras.preprocessing import image\n",
    "from keras.applications.xception import preprocess_input\n",
    "from keras.models import Model\n",
    "\n",
    "import matplotlib.pyplot as plt\n",
    "\n",
    "from sklearn.metrics import recall_score\n",
    "from sklearn.metrics import precision_score\n",
    "from sklearn.metrics import f1_score\n",
    "\n",
    "from sklearn.metrics import confusion_matrix\n",
    "import random as rn\n",
    "\n",
    "np.random.seed(0)\n",
    "tf.set_random_seed(3)\n",
    "\n",
    "from sklearn.model_selection import cross_val_score"
   ]
  },
  {
   "cell_type": "code",
   "execution_count": 2,
   "metadata": {},
   "outputs": [],
   "source": [
    "# run the script containing all framework related functions\n",
    "%run fn_utils.py"
   ]
  },
  {
   "cell_type": "code",
   "execution_count": 3,
   "metadata": {},
   "outputs": [
    {
     "name": "stderr",
     "output_type": "stream",
     "text": [
      "/Users/ochhab3/Documents/ojaswinich_github/signature_verification/fn_utils.py:71: UserWarning: The `merge` function is deprecated and will be removed after 08/2017. Use instead layers from `keras.layers.merge`, e.g. `add`, `concatenate`, etc.\n",
      "  loss = merge([anchor, positive, negative], mode=triplet_loss, output_shape=(1,))\n",
      "/Applications/anaconda/lib/python3.6/site-packages/keras/legacy/layers.py:458: UserWarning: The `Merge` layer is deprecated and will be removed after 08/2017. Use instead layers from `keras.layers.merge`, e.g. `add`, `concatenate`, etc.\n",
      "  name=name)\n"
     ]
    },
    {
     "name": "stdout",
     "output_type": "stream",
     "text": [
      "__________________________________________________________________________________________________\n",
      "Layer (type)                    Output Shape         Param #     Connected to                     \n",
      "==================================================================================================\n",
      "anchor (InputLayer)             (None, 128, 128, 3)  0                                            \n",
      "__________________________________________________________________________________________________\n",
      "positive (InputLayer)           (None, 128, 128, 3)  0                                            \n",
      "__________________________________________________________________________________________________\n",
      "negative (InputLayer)           (None, 128, 128, 3)  0                                            \n",
      "__________________________________________________________________________________________________\n",
      "sequential_1 (Sequential)       multiple             3228864     anchor[0][0]                     \n",
      "                                                                 positive[0][0]                   \n",
      "                                                                 negative[0][0]                   \n",
      "__________________________________________________________________________________________________\n",
      "global_max_pooling2d_1 (GlobalM (None, 1024)         0           sequential_1[1][0]               \n",
      "__________________________________________________________________________________________________\n",
      "global_max_pooling2d_2 (GlobalM (None, 1024)         0           sequential_1[2][0]               \n",
      "__________________________________________________________________________________________________\n",
      "global_max_pooling2d_3 (GlobalM (None, 1024)         0           sequential_1[3][0]               \n",
      "__________________________________________________________________________________________________\n",
      "merge_1 (Merge)                 (None, 1)            0           global_max_pooling2d_1[0][0]     \n",
      "                                                                 global_max_pooling2d_2[0][0]     \n",
      "                                                                 global_max_pooling2d_3[0][0]     \n",
      "==================================================================================================\n",
      "Total params: 3,228,864\n",
      "Trainable params: 1,050,624\n",
      "Non-trainable params: 2,178,240\n",
      "__________________________________________________________________________________________________\n",
      "None\n"
     ]
    }
   ],
   "source": [
    "# load the CNN model\n",
    "pretrained_model= keras.applications.mobilenet.MobileNet()\n",
    "layers_needed=pretrained_model.layers[0:82]\n",
    "#Defining the Sequential model\n",
    "baseline_model=Sequential()\n",
    "for layer in layers_needed:\n",
    "    baseline_model.add(layer)\n",
    "    \n",
    "layers_to_not_train= baseline_model.layers[0:79]\n",
    "\n",
    "for layer in layers_to_not_train:\n",
    "    layer.trainable=False\n",
    "    \n",
    "triplet_model=create_model_new(128, 128, 3, baseline_model)\n",
    "triplet_model.load_weights('/Users/ochhab3/Documents/ojaswinich_github/signature_verification/model_weights/triplet_weights_new_e3.h5')"
   ]
  },
  {
   "cell_type": "code",
   "execution_count": 4,
   "metadata": {},
   "outputs": [],
   "source": [
    "#Find the embeddings from the cnn_model\n",
    "cnn_model = Model(inputs=triplet_model.input,\n",
    "                                 outputs=triplet_model.get_layer('global_max_pooling2d_1').output)"
   ]
  },
  {
   "cell_type": "code",
   "execution_count": 5,
   "metadata": {},
   "outputs": [],
   "source": [
    "# load the logistic model\n",
    "import pickle\n",
    "log_model_loaction='/Users/ochhab3/Documents/ojaswinich_github/signature_verification/model_weights/log_model_e3.pkl'\n",
    "log_model_saved=open(log_model_loaction, 'rb')\n",
    "log_model=pickle.load(log_model_saved)"
   ]
  },
  {
   "cell_type": "code",
   "execution_count": 6,
   "metadata": {},
   "outputs": [],
   "source": [
    "# creating function to input images from folder 1 and folder 2 and save embeddings in database \n",
    "def prepare_database_embed(location, cnn_model):\n",
    "    database = {}\n",
    "\n",
    "    # load all the images of individuals to recognize into the database\n",
    "    for file in glob.glob(location):\n",
    "        identity = os.path.splitext(os.path.basename(file))[0]\n",
    "        #print (identity)\n",
    "        identity_array = img_path_to_array(file)\n",
    "        identity_embed=cnn_model.predict([identity_array,identity_array,identity_array])\n",
    "        database[identity] = identity_embed\n",
    "\n",
    "    return database"
   ]
  },
  {
   "cell_type": "code",
   "execution_count": 9,
   "metadata": {},
   "outputs": [],
   "source": [
    "# creating base images database dictionary\n",
    "folder1_location='/Users/ochhab3/Documents/ojaswinich_github/signature_verification/DataBase/*' #input path here\n",
    "folder1_database = prepare_database_embed(folder1_location, cnn_model)"
   ]
  },
  {
   "cell_type": "code",
   "execution_count": 24,
   "metadata": {},
   "outputs": [],
   "source": [
    "#folder1_database"
   ]
  },
  {
   "cell_type": "code",
   "execution_count": 11,
   "metadata": {},
   "outputs": [],
   "source": [
    "# creating final test images database dictionary\n",
    "folder2_location='/Users/ochhab3/Documents/ojaswinich_github/signature_verification/Test/*' #input path here\n",
    "folder2_database = prepare_database_embed(folder2_location, cnn_model)"
   ]
  },
  {
   "cell_type": "code",
   "execution_count": 25,
   "metadata": {},
   "outputs": [],
   "source": [
    "#folder2_database"
   ]
  },
  {
   "cell_type": "code",
   "execution_count": 13,
   "metadata": {},
   "outputs": [],
   "source": [
    "# empty list for probabilities\n",
    "final_pred_prob=[['Filename', 'Prob1', 'Prob2', 'Prob3']]"
   ]
  },
  {
   "cell_type": "code",
   "execution_count": 14,
   "metadata": {},
   "outputs": [],
   "source": [
    "for test_id in folder2_database:\n",
    "    # assuming test_id starts with a letter. if not remove last part\n",
    "    person_id= test_id.split('_')[0][1:]\n",
    "    test_emb=folder2_database[test_id]\n",
    "    pred_prob_class = [test_id]\n",
    "    orig_ids=[]\n",
    "    for i in folder1_database.keys():\n",
    "          if i.split('_')[0][1:]==person_id:\n",
    "                orig_ids.append(i)\n",
    "    for i in orig_ids:\n",
    "        anc_emb=folder1_database[i]\n",
    "        diff_emb=anc_emb-test_emb\n",
    "        pred_prob=log_model.predict_proba(diff_emb)[:,1][0]\n",
    "        #print (pred_prob)\n",
    "        pred_prob_class.append(pred_prob)\n",
    "        #print (pred_prob_class)\n",
    "    # getting the mode of pred_class\n",
    "    final_pred_prob.append(pred_prob_class)"
   ]
  },
  {
   "cell_type": "code",
   "execution_count": 26,
   "metadata": {},
   "outputs": [],
   "source": [
    "#final_pred_prob"
   ]
  },
  {
   "cell_type": "code",
   "execution_count": 16,
   "metadata": {},
   "outputs": [],
   "source": [
    "# creating an empty list which will be appended \n",
    "final_predictions_any=[['Filename', 'Forged']]"
   ]
  },
  {
   "cell_type": "code",
   "execution_count": 17,
   "metadata": {},
   "outputs": [],
   "source": [
    "# proabability threshold to take for forged class = prior probability\n",
    "k=0.4"
   ]
  },
  {
   "cell_type": "code",
   "execution_count": 18,
   "metadata": {},
   "outputs": [],
   "source": [
    "# if any one is forged, take forged\n",
    "\n",
    "for test_id in folder2_database:\n",
    "    person_id= test_id.split('_')[0][1:]\n",
    "    test_emb=folder2_database[test_id]\n",
    "    pred_prob_class = []\n",
    "    orig_ids=[]\n",
    "    for i in folder1_database.keys():\n",
    "          if i.split('_')[0][1:]==person_id:\n",
    "                orig_ids.append(i)\n",
    "    for i in orig_ids:\n",
    "        anc_emb=folder1_database[i]\n",
    "        diff_emb=anc_emb-test_emb\n",
    "        pred_prob=log_model.predict_proba(diff_emb)[:,1][0]\n",
    "        #print (pred_prob)\n",
    "        pred_prob_class.append(pred_prob)\n",
    "        #print (pred_prob_class)\n",
    "    # taking final class as forged if any probability >= k, otherwise genuine\n",
    "    if (pred_prob_class[0] >= k or pred_prob_class[1] >= k or pred_prob_class[2] >= k):\n",
    "        output='Yes'\n",
    "    else:\n",
    "        output='No'\n",
    "    output_entry=[test_id, output]    \n",
    "    \n",
    "    final_predictions_any.append(output_entry)"
   ]
  },
  {
   "cell_type": "code",
   "execution_count": 19,
   "metadata": {},
   "outputs": [
    {
     "name": "stdout",
     "output_type": "stream",
     "text": [
      "290 100 0.2564102564102564\n"
     ]
    }
   ],
   "source": [
    "# get total number of genuine and forged class\n",
    "x1=np.array(final_predictions_any)[1:]\n",
    "x2=x1[:,1]\n",
    "num_orig=len(x2[x2=='No'])\n",
    "num_forg=len(x2[x2=='Yes'])\n",
    "total=num_orig+num_forg\n",
    "ratio_forg=num_forg/total\n",
    "print(num_orig,num_forg,ratio_forg)"
   ]
  },
  {
   "cell_type": "code",
   "execution_count": 20,
   "metadata": {},
   "outputs": [],
   "source": [
    "# creating an empty list which will be appended \n",
    "final_predictions_mode=[['Filename', 'Decision']]"
   ]
  },
  {
   "cell_type": "code",
   "execution_count": 21,
   "metadata": {},
   "outputs": [],
   "source": [
    "# if mode is forged, take forged\n",
    "\n",
    "for test_id in folder2_database:\n",
    "    person_id= test_id.split('_')[0][1:]\n",
    "    test_emb=folder2_database[test_id]\n",
    "    pred_prob_class = []\n",
    "    orig_ids=[]\n",
    "    for i in folder1_database.keys():\n",
    "          if i.split('_')[0][1:]==person_id:\n",
    "                orig_ids.append(i)\n",
    "    for i in orig_ids:\n",
    "        anc_emb=folder1_database[i]\n",
    "        diff_emb=anc_emb-test_emb\n",
    "        pred_prob=log_model.predict_proba(diff_emb)[:,1][0]\n",
    "        #print (pred_prob)\n",
    "        pred_prob_class.append(pred_prob)\n",
    "        #print (pred_prob_class)\n",
    "    # taking final class as forged if mode of probability >= k, otherwise genuine\n",
    "    a=sum(i >= k for i in pred_prob_class)\n",
    "    if (a>=2):\n",
    "        output='Yes'\n",
    "    else:\n",
    "        output='No'\n",
    "    output_entry=[test_id, output]    \n",
    "    \n",
    "    final_predictions_mode.append(output_entry)"
   ]
  },
  {
   "cell_type": "code",
   "execution_count": 22,
   "metadata": {},
   "outputs": [
    {
     "name": "stdout",
     "output_type": "stream",
     "text": [
      "352 38 0.09743589743589744\n"
     ]
    }
   ],
   "source": [
    "# get total number of genuine and forged class\n",
    "x1=np.array(final_predictions_mode)[1:]\n",
    "x2=x1[:,1]\n",
    "num_orig=len(x2[x2=='No'])\n",
    "num_forg=len(x2[x2=='Yes'])\n",
    "total=num_orig+num_forg\n",
    "ratio_forg=num_forg/total\n",
    "print(num_orig,num_forg,ratio_forg)"
   ]
  },
  {
   "cell_type": "code",
   "execution_count": 23,
   "metadata": {},
   "outputs": [],
   "source": [
    "# converting the final_predictions_any list to .csv file\n",
    "import csv\n",
    "final_predictions_path='final_predictions_test.csv' # give path here\n",
    "myFile = open(final_predictions_path, 'w')  \n",
    "with myFile:  \n",
    "   writer = csv.writer(myFile)\n",
    "   writer.writerows(final_predictions_any)"
   ]
  },
  {
   "cell_type": "code",
   "execution_count": 24,
   "metadata": {},
   "outputs": [],
   "source": [
    "# converting the final_predictions_mode list to .csv file\n",
    "import csv\n",
    "final_predictions_path='final_predictions_mode.csv' # give path here\n",
    "myFile = open(final_predictions_path, 'w')  \n",
    "with myFile:  \n",
    "   writer = csv.writer(myFile)\n",
    "   writer.writerows(final_predictions_mode)"
   ]
  },
  {
   "cell_type": "code",
   "execution_count": 25,
   "metadata": {},
   "outputs": [],
   "source": [
    "# converting the final_pred_prob list to .csv file\n",
    "import csv\n",
    "final_pred_prob_path='final_probabilities_test.csv' # give path here\n",
    "myFile = open(final_pred_prob_path, 'w')  \n",
    "with myFile:  \n",
    "   writer = csv.writer(myFile)\n",
    "   writer.writerows(final_pred_prob)"
   ]
  },
  {
   "cell_type": "code",
   "execution_count": null,
   "metadata": {},
   "outputs": [],
   "source": []
  }
 ],
 "metadata": {
  "kernelspec": {
   "display_name": "Python 3",
   "language": "python",
   "name": "python3"
  },
  "language_info": {
   "codemirror_mode": {
    "name": "ipython",
    "version": 3
   },
   "file_extension": ".py",
   "mimetype": "text/x-python",
   "name": "python",
   "nbconvert_exporter": "python",
   "pygments_lexer": "ipython3",
   "version": "3.6.1"
  }
 },
 "nbformat": 4,
 "nbformat_minor": 2
}
