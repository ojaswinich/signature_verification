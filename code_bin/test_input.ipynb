{
 "cells": [
  {
   "cell_type": "code",
   "execution_count": 122,
   "metadata": {},
   "outputs": [],
   "source": [
    "import tensorflow as tf\n",
    "from keras.layers import Input, Lambda,subtract,GlobalMaxPooling2D,Dense,GlobalAveragePooling2D, concatenate, Activation\n",
    "from keras.applications.mobilenet import MobileNet as Net\n",
    "\n",
    "from keras.preprocessing import image\n",
    "from keras.applications.mobilenet import preprocess_input\n",
    "from keras.models import Model\n",
    "from keras.layers import Input, merge\n",
    "from keras.optimizers import Adam\n",
    "import cv2\n",
    "import numpy as np\n",
    "import os\n",
    "from tqdm import tqdm\n",
    "from keras.models import Sequential\n",
    "\n",
    "from keras.layers import Dense, Dropout, Flatten\n",
    "from keras.layers import Conv2D, MaxPooling2D\n",
    "\n",
    "ALPHA = 0.3  # Triplet Loss Parameter\n",
    "\n",
    "from keras.layers import Input,Lambda,subtract,GlobalMaxPooling2D,Dense,GlobalAveragePooling2D,concatenate,Activation\n",
    "from keras.applications.xception import Xception as Net\n",
    "from keras.preprocessing import image\n",
    "from keras.applications.xception import preprocess_input\n",
    "from keras.models import Model\n",
    "\n",
    "import pydot\n",
    "import graphviz\n",
    "import time\n",
    "import glob\n",
    "\n",
    "\n",
    "import matplotlib.pyplot as plt"
   ]
  },
  {
   "cell_type": "code",
   "execution_count": 6,
   "metadata": {},
   "outputs": [],
   "source": [
    "def img_to_array(image):\n",
    "    img = cv2.resize(image, (128, 128)) \n",
    "    x_train = np.array([img])\n",
    "    return x_train"
   ]
  },
  {
   "cell_type": "code",
   "execution_count": 7,
   "metadata": {},
   "outputs": [],
   "source": [
    "def img_path_to_array(image_path):\n",
    "    img1 = cv2.imread(image_path, 1)\n",
    "    return img_to_array(img1)"
   ]
  },
  {
   "cell_type": "code",
   "execution_count": 54,
   "metadata": {},
   "outputs": [],
   "source": [
    "def prepare_test_arrays(location):\n",
    "    database = {}\n",
    "\n",
    "    # load all the images of individuals to recognize into the database\n",
    "    for file in glob.glob(location):\n",
    "        identity = os.path.splitext(os.path.basename(file))[0].strip('NFI-')\n",
    "        #print (identity)\n",
    "        database[identity] = img_path_to_array(file)\n",
    "\n",
    "    return database"
   ]
  },
  {
   "cell_type": "code",
   "execution_count": 55,
   "metadata": {},
   "outputs": [],
   "source": [
    "test_genuine_arrays = prepare_test_arrays('/Users/ochhab3/Documents/ojaswinich_github/signature_verification/images/sigcomp2009/test/genuines/*')"
   ]
  },
  {
   "cell_type": "code",
   "execution_count": 56,
   "metadata": {},
   "outputs": [],
   "source": [
    "test_forgery_arrays = prepare_test_arrays('/Users/ochhab3/Documents/ojaswinich_github/signature_verification/images/sigcomp2009/test/forgeries/*')"
   ]
  },
  {
   "cell_type": "code",
   "execution_count": 65,
   "metadata": {},
   "outputs": [],
   "source": [
    "all_ids = np.arange(1, 101)\n",
    "missing_ids = np.array([5, 13, 25, 32, 34, 36, 38, 40, 48, 50, 52, 57, 60, 61, 65, 76, 78, 81, 82, 87, 95])\n",
    "ids_available = np.array(list((set(all_ids)-set(missing_ids))))"
   ]
  },
  {
   "cell_type": "code",
   "execution_count": 49,
   "metadata": {},
   "outputs": [],
   "source": [
    "test_database_with_id = {}\n",
    "\n",
    "for i in ids_available:\n",
    "    \n",
    "    if (i < 10):\n",
    "        image_id = '00'+str(i)+'0100'+str(i)\n",
    "    elif (9 < i < 100):   \n",
    "        image_id = '0'+str(i)+'010'+str(i)\n",
    "    else:\n",
    "        image_id = str(i)+'01'+str(i)\n",
    "        \n",
    "    test_database_with_id[i] = test_genuine_embeddings[image_id]\n",
    "    "
   ]
  },
  {
   "cell_type": "code",
   "execution_count": 104,
   "metadata": {},
   "outputs": [],
   "source": [
    "pairwise_gen_ids = []\n",
    "\n",
    "for i in ids_available:\n",
    "    for j in range(2, 13):\n",
    "        \n",
    "        if (i < 10 and j < 10):\n",
    "            a='00'+ str(i)+'0100'+str(i)\n",
    "            p='00'+ str(i)+'0'+str(j)+'00'+str(i)\n",
    "        elif (i < 10 and j > 9):\n",
    "            a='00'+ str(i)+'0100'+str(i)\n",
    "            p='00'+ str(i)+str(j)+'00'+str(i)\n",
    "        elif (9 < i < 100 and j < 10):\n",
    "            a='0'+str(i)+'010'+str(i)\n",
    "            p='0'+ str(i)+'0'+str(j)+'0'+str(i)\n",
    "        elif (9 < i < 100 and j > 9):\n",
    "            a='0'+str(i)+'010'+str(i)\n",
    "            p='0'+ str(i)+str(j)+'0'+str(i)\n",
    "        elif (i > 99 and j < 10):\n",
    "            a=str(i)+'01'+str(i)\n",
    "            p=str(i)+'0'+str(j)+str(i)\n",
    "        elif (i > 99 and j > 9):\n",
    "            a=str(i)+'01'+str(i)\n",
    "            p=str(i)+str(j)+str(i)\n",
    "        pair_gen = (a,p)        \n",
    "        pairwise_gen_ids.append(pair_gen)        \n"
   ]
  },
  {
   "cell_type": "code",
   "execution_count": 113,
   "metadata": {},
   "outputs": [],
   "source": [
    "pairwise_sforg_ids = []\n",
    "\n",
    "for i in ids_available:\n",
    "    for f in range(3, 101):\n",
    "        for n in range(1, 7):\n",
    "            if (i<10 and f<10):\n",
    "                a='00'+ str(i)+'0100'+str(i)\n",
    "                n='00'+ str(f)+'0'+str(n)+'00'+str(i)\n",
    "            elif (i<10 and 9<f<100):\n",
    "                a= '00'+ str(i)+'0100'+str(i)\n",
    "                n= '0'+ str(f)+'0'+str(n)+'00'+str(i)\n",
    "            elif (i<10 and f>99):\n",
    "                a= '00'+ str(i)+'0100'+str(i)\n",
    "                n=  str(f)+'0'+str(n)+'00'+str(i)\n",
    "            elif (9<i<100 and f<10):\n",
    "                a='0'+ str(i)+'010'+str(i)\n",
    "                n='00'+ str(f)+'0'+str(n)+'0'+str(i)\n",
    "            elif(9<i<100 and 9<f<100):\n",
    "                a='0'+ str(i)+'010'+str(i)\n",
    "                n='0'+ str(f)+'0'+str(n)+'0'+str(i)\n",
    "            elif(9<i<100 and f>99):\n",
    "                a='0'+ str(i)+'010'+str(i)\n",
    "                n= str(f)+'0'+str(n)+'0'+str(i)\n",
    "            elif(i>99 and f<10):\n",
    "                a= str(i)+'01'+str(i)\n",
    "                n='00'+ str(f)+'0'+str(n)+str(i)\n",
    "            elif(i>99 and 9<f<100):\n",
    "                a= str(i)+'01'+str(i)\n",
    "                n='0'+ str(f)+'0'+str(n)+str(i)\n",
    "            elif(i>99 and f>99):\n",
    "                a= str(i)+'01'+str(i)\n",
    "                n= str(f)+'0'+str(n)+str(i)\n",
    "            \n",
    "            sforg_ids=(a,n)\n",
    "            pairwise_sforg_ids.append(sforg_ids)"
   ]
  },
  {
   "cell_type": "code",
   "execution_count": 118,
   "metadata": {},
   "outputs": [],
   "source": [
    "pairwise_ugen_ids = []\n",
    "\n",
    "for ai in ids_available:\n",
    "    for ui in ids_available:\n",
    "        if (ai!=ui and 9<ai<100 and 9<ui<100):\n",
    "            a='0'+str(ai)+'010'+str(ai)\n",
    "            u='0'+str(ui)+'010'+str(ui)\n",
    "            pair_ugen = (a,u)        \n",
    "            pairwise_ugen_ids.append(pair_ugen)      \n"
   ]
  },
  {
   "cell_type": "code",
   "execution_count": null,
   "metadata": {},
   "outputs": [],
   "source": []
  },
  {
   "cell_type": "code",
   "execution_count": null,
   "metadata": {},
   "outputs": [],
   "source": [
    "#Framework defination steps\n",
    "#1.Input----> id and image\n",
    "#2.Get the image embedding from our previously trained model\n",
    "#3.It will check the id in the database key.\n",
    "#4.If absent,it will save the embedding in the database against the key\n",
    "#5.If present, it will compare the embedding with the pre-saved embedding corresponding to the same id in the database \n",
    "#and declare as genuine or forge based on the probability obtained from our Logistic regression model.\n"
   ]
  },
  {
   "cell_type": "code",
   "execution_count": null,
   "metadata": {},
   "outputs": [],
   "source": [
    "#input_id is the input key\n",
    "#input_img is the corresponding image"
   ]
  },
  {
   "cell_type": "code",
   "execution_count": 123,
   "metadata": {},
   "outputs": [],
   "source": [
    "#Step1----Getting test image\n",
    "def img_path_to_array(image_path):\n",
    "    img1 = cv2.imread(image_path, 1)\n",
    "    return img_to_array(img1)"
   ]
  },
  {
   "cell_type": "code",
   "execution_count": 124,
   "metadata": {},
   "outputs": [],
   "source": [
    "def get_triple_embedding(image_path):\n",
    "    input_img= img_path_to_array(image_path)\n",
    "    img_embed=intermediate_layer_model_anchor.predict([input_img,input_img,input_img])\n",
    "    return img_embed"
   ]
  },
  {
   "cell_type": "code",
   "execution_count": 128,
   "metadata": {},
   "outputs": [],
   "source": [
    "#database is a dictionary with the ids and embedding\n",
    "def check_if_in_db(database,image_id):\n",
    "    if image_id in database.keys():\n",
    "        output='present'\n",
    "    else :\n",
    "        output='absent'\n",
    "    return output\n",
    "        "
   ]
  },
  {
   "cell_type": "code",
   "execution_count": 134,
   "metadata": {},
   "outputs": [],
   "source": [
    "def add_img_to_db(database,image_id,image_embed):\n",
    "    database['image_id']=image_embed\n",
    "    return database"
   ]
  },
  {
   "cell_type": "code",
   "execution_count": 135,
   "metadata": {},
   "outputs": [],
   "source": [
    "def predict_img_status(database,image_id, image_embed,log_model):\n",
    "    anchor_embed=database['image_id']\n",
    "    test=np.linalg.norm(anchor_embed-image_embed)\n",
    "    pred=log_model.predict(test)\n",
    "    if (pred==1):\n",
    "        output='genuine'\n",
    "    else :\n",
    "        output='forged'\n",
    "    return output"
   ]
  },
  {
   "cell_type": "code",
   "execution_count": null,
   "metadata": {},
   "outputs": [],
   "source": [
    "def final_framework(database, image_path, image_id):\n",
    "    # get image embedddings\n",
    "    image_embed=get_triple_embedding(image_path)\n",
    "    # check if image id is present in the database\n",
    "    check=check_if_in_db(database,image_id)\n",
    "    # if image is not present, then add to database dictionary\n",
    "    if (check=='absent'):\n",
    "        database=add_img_to_db(database,image_id,image_embed)\n",
    "        final_output='Added the new ID to the database with embedding.'\n",
    "    else:\n",
    "        prediction_output=predict_img_status(database,image_id, image_embed)\n",
    "        if (prediction_output=='genuine'):\n",
    "            final_output='This is a genuine signature.'\n",
    "        else:\n",
    "            final_output='This is a forged signature.'\n",
    "    return final_output  "
   ]
  },
  {
   "cell_type": "code",
   "execution_count": null,
   "metadata": {},
   "outputs": [],
   "source": []
  }
 ],
 "metadata": {
  "kernelspec": {
   "display_name": "Python 3",
   "language": "python",
   "name": "python3"
  },
  "language_info": {
   "codemirror_mode": {
    "name": "ipython",
    "version": 3
   },
   "file_extension": ".py",
   "mimetype": "text/x-python",
   "name": "python",
   "nbconvert_exporter": "python",
   "pygments_lexer": "ipython3",
   "version": "3.6.1"
  }
 },
 "nbformat": 4,
 "nbformat_minor": 2
}
